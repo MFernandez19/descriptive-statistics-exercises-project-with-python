{
    "cells": [
        {
            "cell_type": "markdown",
            "id": "ac622319",
            "metadata": {},
            "source": [
                "# Descriptive statistics problems"
            ]
        },
        {
            "cell_type": "markdown",
            "id": "5e0ab0d5",
            "metadata": {},
            "source": [
                "### Exercise 1\n",
                "\n",
                "We will use NumPy to obtain information to describe statistically.\n",
                "\n",
                "- Generate an array of 100 elements following a normal distribution.\n",
                "- Generate an array of 100 elements following a chi-square distribution with 3 degrees of freedom.\n",
                "- Calculate the main metrics and statistical measures that best describe the two vectors."
            ]
        },
        {
            "cell_type": "code",
            "execution_count": 16,
            "id": "34720ab6",
            "metadata": {},
            "outputs": [
                {
                    "name": "stdout",
                    "output_type": "stream",
                    "text": [
                        "Array Normal: [-0.78729071 -0.21415634 -0.14059512  1.0065666  -0.94681531 -1.08555351\n",
                        " -0.01129202 -1.90906138 -0.20756579 -2.26031597 -0.60337777  0.77289499\n",
                        " -1.0710052  -1.6500765  -1.3999305   0.62101808  0.65338022 -0.86800816\n",
                        "  0.0497532  -1.029837   -0.10645926  1.38522732  2.00378114  0.5090759\n",
                        "  0.78788861 -0.71288865 -1.40850246  0.98982619 -0.05208439 -0.31418589\n",
                        " -0.88306606 -0.1311569  -1.60575537  0.26866449 -0.77107259  1.35661787\n",
                        "  1.01384496 -0.70997527 -0.49730843  0.07821824  1.91230402  0.95937198\n",
                        " -0.92490989 -1.34560011  0.62969821 -0.41003742  0.37726403 -0.475805\n",
                        "  0.05635208 -0.16518282 -0.91729332  1.39792291  0.54716091  0.02932923\n",
                        " -0.2451599  -1.89839486 -0.29028086  1.18123136  1.73820187  0.35918339\n",
                        "  0.2394459  -1.04226907 -2.27902282  0.09927925  0.3371502   0.23599306\n",
                        "  0.62264844 -0.41231168 -0.81061243 -1.01686745 -0.812397   -0.47544821\n",
                        " -0.32205453  0.83849124  1.88410763 -0.68496263 -0.88760138  1.25337963\n",
                        "  1.04779579  0.71322903  1.00213514 -1.00322437 -0.09630964 -0.72860366\n",
                        " -0.10572951 -0.28984746  1.61119041 -0.30742262  0.95320297  1.00721236\n",
                        "  1.29584575 -2.41458737 -0.91932407 -0.91950055 -0.46613207  0.39200154\n",
                        "  1.49366831 -0.23055571  1.07880902  0.54340684]\n",
                        "Array Chi: [ 1.75099113  6.43659138  4.74033105  3.19790655  2.85480843  0.52416066\n",
                        "  6.73427458  6.59714031  4.0921693   2.24183815  2.60635161  1.16667399\n",
                        "  1.36251791  1.78393619  7.08525011  0.20503156  0.49720991  8.63920459\n",
                        "  3.60440495  2.67393098  0.89324671  4.84155682  1.66344178  2.53281156\n",
                        "  4.52777702  5.46850457  9.01262342 16.18458869  0.20117352  3.32035262\n",
                        "  0.39949503  0.78362408  0.83327652  5.95838625  7.24999981  4.25122021\n",
                        "  2.9974815   2.86756028  0.59871052  0.69535021  4.025997    5.60849398\n",
                        "  2.22886185  1.1980276   5.67497288  0.91179019  2.99214935  4.38989881\n",
                        "  0.92458788  7.82212153  0.52609785  4.99785423  3.10279566  3.46939481\n",
                        "  0.49318039 11.09548526  2.81658999  3.1055671   6.83492224  2.94812231\n",
                        "  5.01894502  2.55938494  1.51867514  2.65897186  4.25979162  0.77188299\n",
                        "  5.64554824  8.64474555  0.8032662   0.07650786  2.75792612  1.8452513\n",
                        "  1.0519773   4.09309235  5.2081579   1.31149789  3.37589431  2.59251786\n",
                        "  2.90210828  0.80795561  1.62325046  4.39892487  6.59773324  8.20492841\n",
                        " 10.23509116  5.14067046  1.94437494  7.56003603  4.70504499  3.50579219\n",
                        "  3.03033215  9.10125992  5.80904015  1.27332855  6.03612411  1.64780865\n",
                        "  4.73498701  0.15784003  3.52872387  1.39188154]\n"
                    ]
                }
            ],
            "source": [
                "# TODO\n",
                "import numpy as np\n",
                "import statistics as stats\n",
                "\n",
                "array_normal = np.random.normal(loc=0, scale=1, size=100)\n",
                "array_chi_square = np.random.chisquare(df=3,size=100)\n",
                "\n",
                "print(f'Array Normal: {array_normal}')\n",
                "print(f'Array Chi: {array_chi_square}')"
            ]
        },
        {
            "cell_type": "code",
            "execution_count": 17,
            "id": "881ec002",
            "metadata": {},
            "outputs": [
                {
                    "name": "stdout",
                    "output_type": "stream",
                    "text": [
                        "\n",
                        "---MEDIA---\n",
                        "Media Normal: -0.0694101459381371\n",
                        "Media Chi: 3.6777408645193668\n",
                        "\n",
                        "---MEDIANA---\n",
                        "Median Normal: -0.13587601141735756\n",
                        "Median Chi: 3.013906821962598\n",
                        "\n",
                        "---MODA---\n",
                        "Moda Normal: -0.787290710567548\n",
                        "Moda Chi: 1.7509911326522114\n",
                        "\n",
                        "---RANGO---\n",
                        "Moda Normal: 4.418368508819972\n",
                        "Moda Chi: 16.108080832692394\n",
                        "\n",
                        "---VARIANZA---\n",
                        "Moda Normal: 0.9918071418740072\n",
                        "Moda Chi: 8.093509344561136\n",
                        "\n",
                        "---DESVIACION ESTANDAR---\n",
                        "Desviacion Estandar Normal: 0.9958951460239212\n",
                        "Descvaicion Estandar Chi: 2.844909373699123\n",
                        "\n",
                        "---ASIMETRIA---\n",
                        "Asimetrica Normal: -0.037313561454205675\n",
                        "Asimetrica Chi: 1.3085118708898391\n",
                        "\n",
                        "---CURTOSIS---\n",
                        "Curtosis Normal: -0.4786465170741083\n",
                        "Curtosis Chi: 2.642628473517828\n"
                    ]
                }
            ],
            "source": [
                "import numpy as np\n",
                "import statistics as stats\n",
                "from scipy.stats import skew, kurtosis\n",
                "\n",
                "print('\\n---MEDIA---')\n",
                "print(f'Media Normal: {np.mean(array_normal)}')\n",
                "print(f'Media Chi: {np.mean(array_chi_square)}')\n",
                "\n",
                "print('\\n---MEDIANA---')\n",
                "print(f'Median Normal: {np.median(array_normal)}')\n",
                "print(f'Median Chi: {np.median(array_chi_square)}')\n",
                "\n",
                "print('\\n---MODA---')\n",
                "print(f'Moda Normal: {stats.mode(array_normal)}')\n",
                "print(f'Moda Chi: {stats.mode(array_chi_square)}')\n",
                "\n",
                "print('\\n---RANGO---')\n",
                "print(f'Moda Normal: {max(array_normal) - min(array_normal)}')\n",
                "print(f'Moda Chi: {max(array_chi_square) - min(array_chi_square)}')\n",
                "\n",
                "print('\\n---VARIANZA---')\n",
                "print(f'Moda Normal: {stats.variance(array_normal)}')\n",
                "print(f'Moda Chi: {stats.variance(array_chi_square)}')\n",
                "\n",
                "print('\\n---DESVIACION ESTANDAR---')\n",
                "print(f'Desviacion Estandar Normal: {stats.stdev(array_normal)}')\n",
                "print(f'Descvaicion Estandar Chi: {stats.stdev(array_chi_square)}')\n",
                "\n",
                "print('\\n---ASIMETRIA---')\n",
                "print(f'Asimetrica Normal: {skew(array_normal)}')\n",
                "print(f'Asimetrica Chi: {skew(array_chi_square)}')\n",
                "\n",
                "print('\\n---CURTOSIS---')\n",
                "print(f'Curtosis Normal: {kurtosis(array_normal)}')\n",
                "print(f'Curtosis Chi: {kurtosis(array_chi_square)}')"
            ]
        },
        {
            "cell_type": "markdown",
            "id": "46c70c3d",
            "metadata": {},
            "source": [
                "### Exercise 2\n",
                "\n",
                "Write a Python program to calculate the standard deviation of the following data:\n",
                "\n",
                "```py\n",
                "data = [4, 2, 5, 8, 6]\n",
                "```"
            ]
        },
        {
            "cell_type": "code",
            "execution_count": 18,
            "id": "d590308e",
            "metadata": {},
            "outputs": [
                {
                    "name": "stdout",
                    "output_type": "stream",
                    "text": [
                        "\n",
                        "Datos para hacer la desviacion estandar: [4, 2, 5, 8, 6]\n",
                        "Desviacion estandar de los datos anteriores: 2.0\n"
                    ]
                }
            ],
            "source": [
                "# TODO\n",
                "\n",
                "import numpy as np\n",
                "\n",
                "data = [4,2,5,8,6]\n",
                "\n",
                "def calcular_desviacion_estandar(valores):\n",
                "    #Primero obtenemos la media de los valores\n",
                "    promedio = np.mean(valores)\n",
                "    #Luego multiplicamos la media con cada uno de los valores y los elevamos al cuadrado (en este momento almacenamos los valores en una nueva lista)\n",
                "    diferencias_cuadradas = [(i - promedio)**2 for i in valores]\n",
                "    #Ahora sacamos la media de la nueva lista que obtivimos anteriormente y a ella le sacamos su raiz cuadrada\n",
                "    desviacion_estandar = np.sqrt(np.mean(diferencias_cuadradas))\n",
                "\n",
                "    return desviacion_estandar\n",
                "\n",
                "print(f'''\n",
                "Datos para hacer la desviacion estandar: {data}\n",
                "Desviacion estandar de los datos anteriores: {calcular_desviacion_estandar(data)}''')"
            ]
        }
    ],
    "metadata": {
        "interpreter": {
            "hash": "9248718ffe6ce6938b217e69dbcc175ea21f4c6b28a317e96c05334edae734bb"
        },
        "kernelspec": {
            "display_name": "Python 3.9.12 ('ML-BOOTCAMP')",
            "language": "python",
            "name": "python3"
        },
        "language_info": {
            "codemirror_mode": {
                "name": "ipython",
                "version": 3
            },
            "file_extension": ".py",
            "mimetype": "text/x-python",
            "name": "python",
            "nbconvert_exporter": "python",
            "pygments_lexer": "ipython3",
            "version": "3.11.4"
        }
    },
    "nbformat": 4,
    "nbformat_minor": 5
}
